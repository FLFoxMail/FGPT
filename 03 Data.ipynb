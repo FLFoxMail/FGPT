{
 "cells": [
  {
   "cell_type": "markdown",
   "metadata": {},
   "source": [
    "本小节将聚焦于数据预处理。\n",
    "\n",
    "在模型建立初期，往往采用开源数据集的一小部分来验证模型的收敛性，常见的开源数据集如下表所示\n",
    "\n",
    "| 数据集名称 | 数据集内容 | 数据集大小 |\n",
    "| --- | --- | --- |\n",
    "| MNIST | 手写数字识别数据集，10个类别 | 60 000 个训练样本和 10 000 个测试样本 |\n",
    "| CIFAR10/CIFAR100 | 10 类和 100 类的 32×32 彩色图像数据集 | 60 000 个样本 |\n",
    "| ImageNet | 大规模图像识别数据集，超过1000个类别 | 1 281 167 个训练样本，50 000 个验证样本，100 000 个测试样本 |\n",
    "| COCO | 用于图像识别、分割和对象检测的大型数据集 | 328K 个样本 |\n",
    "| 20 Newsgroups | 新闻组文章的文本数据集 | 20 000 篇新闻文章，分为 20 个类别 |\n",
    "| IMDb Movie Reviews | 电影评论的情感分析数据集 | 50 000 条影评，分为正面和负面两类 |\n",
    "| Wikipedia Corpus | 用于自然语言处理的大型文本语料库 | 不断更新和增长，可达数 TB |\n",
    "| Google Open Images Dataset | 大规模图像数据集 | 约 900 万张图像，带有 6000 万个对象的标注 | \n"
   ]
  },
  {
   "cell_type": "markdown",
   "metadata": {},
   "source": [
    "# 1.数据集的加载和使用\n",
    "\n",
    "Pytorch 框架提供了Datasets和DataLoaders两个类，用于方便地加载和处理数据集。\n",
    "Datasets 输出的是单个样本，DataLoaders 输出的是一批样本。\n",
    "\n",
    "他们的作用在于：\n",
    "\n",
    "- **Datasets**：用于加载数据集，将数据集转换为PyTorch可以处理的形式。\n",
    "- **DataLoaders**：用于批量加载数据，将数据集分成多个小批次，并打乱顺序，以增加模型的泛化能力。"
   ]
  },
  {
   "cell_type": "markdown",
   "metadata": {},
   "source": [
    "## 1.1 Datasets\n",
    "PyTorch 提供了多种内置数据集，以文本数据集为例，我们以20 Newsgroups数据集为例，介绍如何使用PyTorch的datasets模块加载文本数据集"
   ]
  },
  {
   "cell_type": "code",
   "execution_count": 4,
   "metadata": {},
   "outputs": [
    {
     "name": "stderr",
     "output_type": "stream",
     "text": [
      "Generating train split: 100%|██████████| 25000/25000 [00:00<00:00, 180885.33 examples/s]\n",
      "Generating test split: 100%|██████████| 25000/25000 [00:00<00:00, 190041.70 examples/s]\n",
      "Generating unsupervised split: 100%|██████████| 50000/50000 [00:00<00:00, 176410.64 examples/s]"
     ]
    },
    {
     "name": "stdout",
     "output_type": "stream",
     "text": [
      "DatasetDict({\n",
      "    train: Dataset({\n",
      "        features: ['text', 'label'],\n",
      "        num_rows: 25000\n",
      "    })\n",
      "    test: Dataset({\n",
      "        features: ['text', 'label'],\n",
      "        num_rows: 25000\n",
      "    })\n",
      "    unsupervised: Dataset({\n",
      "        features: ['text', 'label'],\n",
      "        num_rows: 50000\n",
      "    })\n",
      "})\n",
      "{'text': 'I rented I AM CURIOUS-YELLOW from my video store because of all the controversy that surrounded it when it was first released in 1967. I also heard that at first it was seized by U.S. customs if it ever tried to enter this country, therefore being a fan of films considered \"controversial\" I really had to see this for myself.<br /><br />The plot is centered around a young Swedish drama student named Lena who wants to learn everything she can about life. In particular she wants to focus her attentions to making some sort of documentary on what the average Swede thought about certain political issues such as the Vietnam War and race issues in the United States. In between asking politicians and ordinary denizens of Stockholm about their opinions on politics, she has sex with her drama teacher, classmates, and married men.<br /><br />What kills me about I AM CURIOUS-YELLOW is that 40 years ago, this was considered pornographic. Really, the sex and nudity scenes are few and far between, even then it\\'s not shot like some cheaply made porno. While my countrymen mind find it shocking, in reality sex and nudity are a major staple in Swedish cinema. Even Ingmar Bergman, arguably their answer to good old boy John Ford, had sex scenes in his films.<br /><br />I do commend the filmmakers for the fact that any sex shown in the film is shown for artistic purposes rather than just to shock people and make money to be shown in pornographic theaters in America. I AM CURIOUS-YELLOW is a good film for anyone wanting to study the meat and potatoes (no pun intended) of Swedish cinema. But really, this film doesn\\'t have much of a plot.', 'label': 0}\n",
      "{'text': 'I love sci-fi and am willing to put up with a lot. Sci-fi movies/TV are usually underfunded, under-appreciated and misunderstood. I tried to like this, I really did, but it is to good TV sci-fi as Babylon 5 is to Star Trek (the original). Silly prosthetics, cheap cardboard sets, stilted dialogues, CG that doesn\\'t match the background, and painfully one-dimensional characters cannot be overcome with a \\'sci-fi\\' setting. (I\\'m sure there are those of you out there who think Babylon 5 is good sci-fi TV. It\\'s not. It\\'s clichéd and uninspiring.) While US viewers might like emotion and character development, sci-fi is a genre that does not take itself seriously (cf. Star Trek). It may treat important issues, yet not as a serious philosophy. It\\'s really difficult to care about the characters here as they are not simply foolish, just missing a spark of life. Their actions and reactions are wooden and predictable, often painful to watch. The makers of Earth KNOW it\\'s rubbish as they have to always say \"Gene Roddenberry\\'s Earth...\" otherwise people would not continue watching. Roddenberry\\'s ashes must be turning in their orbit as this dull, cheap, poorly edited (watching it without advert breaks really brings this home) trudging Trabant of a show lumbers into space. Spoiler. So, kill off a main character. And then bring him back as another actor. Jeeez! Dallas all over again.', 'label': 0}\n"
     ]
    },
    {
     "name": "stderr",
     "output_type": "stream",
     "text": [
      "\n"
     ]
    }
   ],
   "source": [
    "from datasets import load_dataset\n",
    "\n",
    "imdb = load_dataset(\"imdb\")\n",
    "print(imdb)\n",
    "print(imdb[\"train\"][0])\n",
    "print(imdb[\"test\"][0])\n"
   ]
  },
  {
   "cell_type": "markdown",
   "metadata": {},
   "source": [
    "## 1.2 自定义 DataSets\n",
    "\n",
    "自定义 DataSets，需要继承 PyTorch 的 Dataset 类，并实现 `__len__` 和 `__getitem__` 方法。"
   ]
  },
  {
   "cell_type": "code",
   "execution_count": 6,
   "metadata": {},
   "outputs": [
    {
     "name": "stdout",
     "output_type": "stream",
     "text": [
      "I love you\n"
     ]
    }
   ],
   "source": [
    "# 自定义数据集\n",
    "from torch.utils.data import Dataset\n",
    "\n",
    "oraw_sents =[\"I love you\", \n",
    "            \"I hate you\",\n",
    "            \"I like you\",\n",
    "            \"I don't like you\",\n",
    "            \"I don't love you\"]\n",
    "class FGPTDataset(Dataset):\n",
    "                \n",
    "    \n",
    "    def __init__(self, data):\n",
    "        self.data = data\n",
    "\n",
    "    def __len__(self):\n",
    "        return len(self.data)\n",
    "\n",
    "    def __getitem__(self, idx):\n",
    "        return self.data[idx]\n",
    "# 使用自定义数据集\n",
    "dataset = FGPTDataset(oraw_sents)\n",
    "print(dataset[0])\n"
   ]
  },
  {
   "cell_type": "code",
   "execution_count": null,
   "metadata": {},
   "outputs": [],
   "source": []
  }
 ],
 "metadata": {
  "kernelspec": {
   "display_name": "ddp",
   "language": "python",
   "name": "python3"
  },
  "language_info": {
   "codemirror_mode": {
    "name": "ipython",
    "version": 3
   },
   "file_extension": ".py",
   "mimetype": "text/x-python",
   "name": "python",
   "nbconvert_exporter": "python",
   "pygments_lexer": "ipython3",
   "version": "3.8.20"
  }
 },
 "nbformat": 4,
 "nbformat_minor": 2
}
