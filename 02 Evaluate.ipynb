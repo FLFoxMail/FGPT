{
 "cells": [
  {
   "cell_type": "markdown",
   "metadata": {},
   "source": [
    "**性能评估**\n",
    "本节将搭建性能评估环境，并对初始模型的性能指标进行验证，包括单卡吞吐量（tokens/s）和显存占用（GB）等。具体涵盖以下几个方面：\n",
    "1. **软硬件环境**：对评估所使用的硬件配置和软件环境进行详细说明，确保实验的可重复性。\n",
    "2. **程序运行时间精确测量**：介绍如何精确测量程序运行时间，以获取模型运行效率的准确数据。\n",
    "3. **PyTorch性能分析器**：运用PyTorch性能分析器，深入分析模型在计算过程中的性能表现。\n",
    "4. **GPU专业分析工具**：利用专业的GPU分析工具，对模型在GPU上的运行情况进行全方位的剖析。\n",
    "5. **CPU性能分析工具**：借助CPU性能分析工具，评估模型在CPU上的性能指标，为全面了解模型性能提供多维度数据支持。 "
   ]
  },
  {
   "cell_type": "markdown",
   "metadata": {},
   "source": [
    "# 1 软硬件环境\n",
    "\n",
    "## 1.1 硬件资源\n",
    "**GPU：**为了较少其他应用程序的干扰，尽量关闭其他显存占用。\n",
    "\n",
    "```bash\n",
    "nvidia-smi # 查看其它使用显卡的进程 查PID\n",
    "ps aus |grep <PID> 查看进程详情\n",
    "```\n",
    "\n",
    "**CPU：** 查看CPU使用情况\n",
    "\n",
    "```bash\n",
    "htop # 查看 cpu使用情况, 核心利用情况，交换率等\n",
    "```\n",
    "\n",
    "## 1.2 设置各种随机种子\n",
    "\n",
    "**python：**因为python生态没有不能统一设置随机种子，直接看代码\n",
    "\n",
    "```python\n",
    "torch.manual_seed(seed) # 这样的设置会使 Dropout 会在相同的位置丢弃神经元\n",
    "np.random.seed(seed) # numpy\n",
    "\n",
    "random.seed(seed) # python\n",
    "# 👆这个不能完全设置随机性，随机来源很多，Hash不会因为这个设置固定\n",
    "\n",
    "```"
   ]
  },
  {
   "cell_type": "code",
   "execution_count": 2,
   "metadata": {},
   "outputs": [
    {
     "name": "stdout",
     "output_type": "stream",
     "text": [
      "Hash: 7724379189296796782\n"
     ]
    }
   ],
   "source": [
    "import random\n",
    "\n",
    "random.seed(42) # jupyter 里面每次执行结果一直，但是每次重启jupyter notebook内核，结果会变\n",
    "print(\"Hash:\", hash(\"hello\")) # \n",
    "# 解决 Hash 的随机性需要设置环境变量\n",
    "import os\n",
    "os.environ['PYTHONHASHSEED'] = '0'"
   ]
  },
  {
   "cell_type": "markdown",
   "metadata": {},
   "source": [
    "**glob 模块：**glob 模块无法保证获取的文件顺序每次都一致,如果需要保证一致性，则需要手动排序（未验证）。"
   ]
  },
  {
   "cell_type": "code",
   "execution_count": 3,
   "metadata": {},
   "outputs": [
    {
     "name": "stdout",
     "output_type": "stream",
     "text": [
      "['/home/fl/code/python/FGPT/01 GPT.ipynb', '/home/fl/code/python/FGPT/02 Evaluate.ipynb']\n"
     ]
    }
   ],
   "source": [
    "# glob 随机性测试\n",
    "import glob\n",
    "import random\n",
    "# 固定种子\n",
    "random.seed(42)\n",
    "\n",
    "# 获取文件列表\n",
    "files = glob.glob(\"/home/fl/code/python/FGPT/*.ipynb\")\n",
    "\n",
    "# 打印文件列表\n",
    "print(files)"
   ]
  },
  {
   "cell_type": "markdown",
   "metadata": {},
   "source": [
    "**GPU 算子：** 约束 GPU 算子随机性，GPU 的算子的随机性来源很多，比如计算精度\n",
    "\n",
    "比如结合律（A+B）\\*C 和 (A \\*C) + (B \\*C) 不一定相等\n",
    "\n",
    "又比如cuDnn 提供了多种卷积算法，默认会自动选择最优算法，这会导致卷积的结果不一致\n",
    "\n",
    "一般通过以下方式约束随机性，但是添加设置会影响 GPU 性能,仅在调试分析时使用\n",
    "\n",
    "```python\n",
    "torch.backends.cudnn.deterministic = True # 约束算子底层实现的随机性\n",
    "torch.backends.cudnn.benchmark = False # 约束 cuDnn算子随机选择算法\n",
    "```\n"
   ]
  },
  {
   "cell_type": "markdown",
   "metadata": {},
   "source": [
    "综上，一个完整的约束随机性的步骤集合如下："
   ]
  },
  {
   "cell_type": "code",
   "execution_count": 4,
   "metadata": {},
   "outputs": [],
   "source": [
    "import torch\n",
    "import random\n",
    "import numpy as np\n",
    "import glob\n",
    "import os\n",
    "\n",
    "def set_seed(seed):\n",
    "    # 设置随机种子\n",
    "    torch.manual_seed(seed)\n",
    "    np.random.seed(seed)\n",
    "    random.seed(seed)\n",
    "    os.environ['PYTHONHASHSEED'] = str(seed)\n",
    "\n",
    "    # 约束 GPU 算子随机性\n",
    "    torch.backends.cudnn.deterministic = True\n",
    "    torch.backends.cudnn.benchmark = False"
   ]
  },
  {
   "cell_type": "markdown",
   "metadata": {},
   "source": [
    "## 1.3 限制频率\n",
    "\n",
    "**GPU 频率限制：**GPU 会根据运行状态，自动调整显存频率和基础频率\n",
    "\n",
    "GPU 锁频脚本如下(需要 GPU 的版本支持)\n",
    "\n",
    "```bash\n",
    "# 查询\n",
    "nvidia-smi --query-gpu=pstate,clocks.mem,clocks.sm,clocks.gr --format=csv\n",
    "pstate, clocks.current.memory [MHz], clocks.current.sm [MHz], clocks.current.graphics [MHz]\n",
    "P0, 6000 MHz, 1485 MHz, 1485 MHz\n",
    "# 参数解读\n",
    "# ​pstate：GPU的性能状态，范围从P0（最大性能）到P12（最小性能）。例如，P0表示GPU处于最高性能状态。\n",
    "# ​clocks.current.memory [MHz]：当前内存时钟频率，例如6000 MHz，表示显存以6000 MHz运行。\n",
    "# ​clocks.current.sm [MHz]：当前流处理器（SM）的时钟频率，例如1485 MHz，表示核心计算单元以1485 MHz运行。\n",
    "# ​clocks.current.graphics [MHz]：当前图形处理单元的时钟频率，例如1485 MHz，表示图形处理单元以1485 MHz运行。\n",
    "```\n",
    "\n",
    "```bash\n",
    "# 查询 GPU 支持的 Clock 频率组合\n",
    "nvidia-smi --query-supported-clocks=gpu_name,mem,gr --format=csv\n",
    "\n",
    "gpu_name, memory [MHz], graphics [MHz]\n",
    "NVIDIA GeForce RTX 3050 Ti Laptop GPU, 6001 MHz, 2100 MHz\n",
    "NVIDIA GeForce RTX 3050 Ti Laptop GPU, 6001 MHz, 2092 MHz\n",
    "NVIDIA GeForce RTX 3050 Ti Laptop GPU, 6001 MHz, 2085 MHz\n",
    "NVIDIA GeForce RTX 3050 Ti Laptop GPU, 6001 MHz, 2077 MHz\n",
    "# 其中mem,gr分表代表显存频率和核心频率\n",
    "````\n",
    "\n",
    "```bash\n",
    "# 设置 GPU 持久模式 0 关闭 1 开启,持久模式开启后，GPU会保持在最后一次设置的频率，而不会自动调整\n",
    "sudo nvidia-smi -pm 1\n",
    "```\n",
    "\n",
    "```bash\n",
    "\n",
    "# 固定 GPU 时钟频率\n",
    "nvidia-smi -ac xxxx,xxxx #(mermory clock, graphics clock) \n",
    "```\n",
    "\n",
    "**CPU 频率：** CPU 的性能会被划分为不同的等级称为性能状态（P-state），可以通过工具包固定 p-state 和 CPU 频率\n",
    "\n",
    "！以下暂未执行成功\n",
    "```bash\n",
    "# 安装工具班、啊、包\n",
    "sudo apt install cpufrequtils #\n",
    "# 设置环境变量\n",
    "export CPUFREQUTILS_ROOT=/usr/bin/cpufrequtils\n",
    "source /etc/profile\n",
    "cpufreq-info\n",
    "# 设置最大/最小频率\n",
    "sudo cpufreq-set -r -g performance # 设置 CPU 频率模式为 performance, -r 重新加载配置, -g 指定模式\n",
    "sudo cpufrequtils -r -d 2.4GHz -u 2.4GHz # 设置 CPU 最大/最小频率\n",
    "\n",
    "# 验证是否生效\n",
    "cpufreq-info\n",
    "\n",
    "# 或者直接查看\n",
    "cat /sys/device/system/cpu/cpu0/cpufreq/scaling_cpu_freq\n",
    "cat /sys/device/system/cpu/cpu0/cpufreq/scaling_max_freq\n",
    "cat /sys/device/system/cpu/cpu0/cpufreq/scaling_min_freq\n",
    "```"
   ]
  },
  {
   "cell_type": "markdown",
   "metadata": {},
   "source": [
    "# 2 时间测量"
   ]
  },
  {
   "cell_type": "markdown",
   "metadata": {},
   "source": [
    "计算运行时间的两种方式\n",
    "- python time 模块\n",
    "- CUDA 事件计时"
   ]
  },
  {
   "cell_type": "markdown",
   "metadata": {},
   "source": [
    "## 2.1 python time 模块\n",
    "\n",
    "python 有两种原生的时间测量方法，一种是 time.time()，一种是 time.perf_counter(), \n",
    "pref_counter() 准确度更高，他是微秒级别，且不受系统时间影响\n",
    "time.time() 是秒级别,表示的是自 1970 年 1 月 1 日 00:00:00 UTC 到现在的时间，受当前系统时间影响"
   ]
  },
  {
   "cell_type": "code",
   "execution_count": 5,
   "metadata": {},
   "outputs": [
    {
     "name": "stdout",
     "output_type": "stream",
     "text": [
      "运行时间：1.080399852071423e-05 秒\n"
     ]
    }
   ],
   "source": [
    "import time\n",
    "start = time.perf_counter()\n",
    "# 其他执行逻辑\n",
    "end = time.perf_counter()\n",
    "print(f\"运行时间：{end - start} 秒\")"
   ]
  },
  {
   "cell_type": "markdown",
   "metadata": {},
   "source": [
    "## 2.2 CUDA 事件计时\n",
    "因为CPU和GPU是异步的，time.perf_counter() 的时间差表示的是 计时前后CPU的时间差。当CPU指令未等待GPU指令完成时，时间差会小于GPU指令实际运行时间。因此有两种方法解决，一种是使用同步指令，另一种是使用 CUDA 事件计时\n",
    "\n",
    "- 同步指令：torch.cuda.synchronize()，会阻塞CPU，直到GPU指令完成"
   ]
  },
  {
   "cell_type": "code",
   "execution_count": 6,
   "metadata": {},
   "outputs": [
    {
     "name": "stdout",
     "output_type": "stream",
     "text": [
      "运行时间：3.0294845999378595毫秒\n"
     ]
    }
   ],
   "source": [
    "import torch\n",
    "import time\n",
    "\n",
    "size=24\n",
    "N=10\n",
    "shape =(size,size,size)\n",
    "\n",
    "x = torch.randn(dtype=torch.float, size=shape, device='cuda')\n",
    "y = torch.randn(dtype=torch.float, size=shape, device='cuda')\n",
    "\n",
    "torch.cuda.synchronize()\n",
    "start = time.perf_counter()\n",
    "\n",
    "for _ in range(N):\n",
    "    z = torch.matmul(x, y)\n",
    "    \n",
    "torch.cuda.synchronize()\n",
    "end = time.perf_counter()\n",
    "print(f\"运行时间：{(end - start) / N * 1000}毫秒\")"
   ]
  },
  {
   "cell_type": "markdown",
   "metadata": {},
   "source": [
    "- cuda 事件计时\n",
    "torch.cuda.synchronize() 执行后，最终还是在CPU端阻塞，CPU和GPU的同步过程也需要消耗时间，因此使用 cuda 事件计时，可以更准确的测量GPU指令的运行时间"
   ]
  },
  {
   "cell_type": "code",
   "execution_count": 7,
   "metadata": {},
   "outputs": [
    {
     "name": "stdout",
     "output_type": "stream",
     "text": [
      "运行时间：$0.058316802978515624 毫秒\n"
     ]
    }
   ],
   "source": [
    "import torch\n",
    "\n",
    "size=24\n",
    "N=10\n",
    "shape =(size,size,size)\n",
    "\n",
    "start = torch.cuda.Event(enable_timing=True)\n",
    "end = torch.cuda.Event(enable_timing=True)\n",
    "x = torch.randn(dtype=torch.float, size=shape, device='cuda')\n",
    "y = torch.randn(dtype=torch.float, size=shape, device='cuda')\n",
    "\n",
    "start.record()\n",
    "for _ in range(N):\n",
    "    z = torch.matmul(x, y)\n",
    "end.record()\n",
    "    \n",
    "torch.cuda.synchronize()\n",
    "print(f\"运行时间：${(start.elapsed_time(end)) / N} 毫秒\")"
   ]
  },
  {
   "cell_type": "markdown",
   "metadata": {},
   "source": [
    "**tips**: 两种不同计时方法统计结果对比\n",
    "\n",
    "---\n",
    "实验设计\n",
    "---\n",
    "先进行预热，然后测试维度 从 24 到 1024，步长为 24，每个维度计算 10 次，取平均时间，\n",
    "比较两种计时方法的结果，最后画出对比图\n",
    "\n",
    "实验步骤：\n",
    "1. 预热\n",
    "2. 生成数据\n",
    "3. 计时\n",
    "4. 绘图\n",
    "---"
   ]
  },
  {
   "cell_type": "code",
   "execution_count": 8,
   "metadata": {},
   "outputs": [
    {
     "name": "stderr",
     "output_type": "stream",
     "text": [
      "100%|██████████| 15/15 [01:56<00:00,  7.76s/it]\n"
     ]
    }
   ],
   "source": [
    "import torch\n",
    "import time\n",
    "from tqdm import tqdm\n",
    "import matplotlib.pyplot as plt\n",
    "import numpy as np\n",
    "\n",
    "def calculate(x, y):\n",
    "    # 批量计算举证乘法\n",
    "    z = torch.matmul(x, y)\n",
    "    return z\n",
    "\n",
    "N = 10\n",
    "num = 1024\n",
    "batch_size = 128\n",
    "# 预热\n",
    "for _ in range(10):\n",
    "    x = torch.randn(dtype=torch.float, size=(24, 24, 24), device='cuda')\n",
    "    y = torch.randn(dtype=torch.float, size=(24, 24, 24), device='cuda')\n",
    "    z = torch.matmul(x, y)\n",
    "\n",
    "sizes = []\n",
    "cpu_times = []\n",
    "gpu_times = []\n",
    "\n",
    "for size in tqdm(range(64, 1024, 64)):\n",
    "    shape = (num, size, size)\n",
    "    x = torch.randn(dtype=torch.float, size=shape, device='cpu')\n",
    "    y = torch.randn(dtype=torch.float, size=shape, device='cpu')     \n",
    "    \n",
    "    \n",
    "    start = time.perf_counter()\n",
    "    # 计算 N 次，取平均时间\n",
    "    for _ in range(N):        \n",
    "        # 分批计算\n",
    "        for i in range(0, num, batch_size):\n",
    "            x_batch = x[i:i+batch_size].to('cuda')\n",
    "            y_batch = y[i:i+batch_size].to('cuda')\n",
    "            calculate(x_batch, y_batch)\n",
    "    torch.cuda.synchronize()\n",
    "    end = time.perf_counter()\n",
    "    cpu_times.append((end - start) * 1000 / N)\n",
    "    \n",
    "    # GPU 计时\n",
    "    start = torch.cuda.Event(enable_timing=True)\n",
    "    end = torch.cuda.Event(enable_timing=True)\n",
    "    start.record()\n",
    "    for _ in range(N):\n",
    "        for i in range(0, num, batch_size):\n",
    "            x_batch = x[i:i+batch_size].to('cuda')\n",
    "            y_batch = y[i:i+batch_size].to('cuda')\n",
    "            calculate(x_batch, y_batch)\n",
    "    end.record()\n",
    "    torch.cuda.synchronize()\n",
    "    gpu_times.append(start.elapsed_time(end) / N)\n",
    "\n",
    "    sizes.append(size)"
   ]
  },
  {
   "cell_type": "code",
   "execution_count": 9,
   "metadata": {},
   "outputs": [
    {
     "data": {
      "image/png": "[encoded data removed]",
      "text/plain": [
       "<Figure size 640x480 with 1 Axes>"
      ]
     },
     "metadata": {},
     "output_type": "display_data"
    }
   ],
   "source": [
    "\n",
    "# 因为CPU 和 GPU 运行时间比较接近，为了体现每一组时间的差异，计算两个运行时间的差值，使用柱状图展示，柱子的宽度为20，大于零用蓝色，小于零用红色\n",
    "plt.bar(sizes, cpu_times, width=20, label='CPU')\n",
    "plt.bar(sizes, gpu_times, width=20, label='GPU')\n",
    "plt.xlabel('size')\n",
    "plt.ylabel('time difference (ms)')\n",
    "plt.title('CPU vs GPU')\n",
    "plt.legend()\n",
    "plt.show()"
   ]
  },
  {
   "cell_type": "markdown",
   "metadata": {},
   "source": [
    "# 3 Pytorch性能分析"
   ]
  },
  {
   "cell_type": "markdown",
   "metadata": {},
   "source": [
    "现实工程中的代码往往耦合较多，单单打印时间不足以分析性能瓶颈，Pytorch 提供了性能分析工具，可以分析代码的瓶颈\n",
    "\n",
    "pytorch 提供了两种性能分析工具：\n",
    "1. torch.profiler\n",
    "2. torch.utils.bottleneck\n",
    "\n",
    "本节将介绍 torch.profiler。先看使用示例"
   ]
  },
  {
   "cell_type": "code",
   "execution_count": 1,
   "metadata": {},
   "outputs": [
    {
     "name": "stderr",
     "output_type": "stream",
     "text": [
      "STAGE:2025-03-22 22:51:37 15475:15475 ActivityProfilerController.cpp:314] Completed Stage: Warm Up\n",
      "STAGE:2025-03-22 22:51:38 15475:15475 ActivityProfilerController.cpp:320] Completed Stage: Collection\n",
      "STAGE:2025-03-22 22:51:38 15475:15475 ActivityProfilerController.cpp:324] Completed Stage: Post Processing\n"
     ]
    },
    {
     "name": "stdout",
     "output_type": "stream",
     "text": [
      "-------------------------------------------------------  ------------  ------------  ------------  ------------  ------------  ------------  \n",
      "                                                   Name    Self CPU %      Self CPU   CPU total %     CPU total  CPU time avg    # of Calls  \n",
      "-------------------------------------------------------  ------------  ------------  ------------  ------------  ------------  ------------  \n",
      "                                                   FGPT        31.90%     779.305ms        54.34%        1.328s        1.328s             1  \n",
      "                     Optimizer.zero_grad#Adam.zero_grad         0.03%     811.000us         0.03%     811.000us      81.100us            10  \n",
      "                                           aten::linear         0.16%       3.824ms         5.66%     138.375ms     384.375us           360  \n",
      "                                          aten::reshape         0.07%       1.781ms         1.07%      26.264ms      13.896us          1890  \n",
      "                                             aten::view         0.10%       2.441ms         0.10%       2.441ms       0.816us          2990  \n",
      "                                                aten::t         0.13%       3.158ms         0.21%       5.202ms       2.939us          1770  \n",
      "                                        aten::transpose         0.08%       2.031ms         0.11%       2.655ms       1.246us          2130  \n",
      "                                       aten::as_strided         0.03%     648.000us         0.03%     648.000us       0.272us          2380  \n",
      "                                            aten::addmm         0.84%      20.581ms         5.35%     130.718ms     363.106us           360  \n",
      "                                  cudaStreamIsCapturing         0.00%      43.000us         0.00%      43.000us       0.394us           109  \n",
      "                                             cudaMalloc         1.36%      33.231ms         1.36%      33.231ms     316.486us           105  \n",
      "                                               cudaFree         0.64%      15.606ms         0.64%      15.606ms       5.202ms             3  \n",
      "                                 cudaDeviceGetAttribute         0.00%       0.000us         0.00%       0.000us       0.000us            15  \n",
      "                                   cudaGetSymbolAddress         0.03%     692.000us         0.03%     692.000us     692.000us             1  \n",
      "          cudaOccupancyMaxActiveBlocksPerMultiprocessor         0.14%       3.413ms         0.14%       3.413ms      16.730us           204  \n",
      "                                       cudaLaunchKernel        41.01%        1.002s        41.01%        1.002s     279.437us          3586  \n",
      "-------------------------------------------------------  ------------  ------------  ------------  ------------  ------------  ------------  \n",
      "Self CPU time total: 2.443s\n",
      "\n"
     ]
    }
   ],
   "source": [
    "import torch\n",
    "from model.model import FGPT\n",
    "from torch.profiler import profile, record_function, ProfilerActivity\n",
    "\n",
    "\n",
    "# # 设置随机种子\n",
    "# set_seed(42)\n",
    "# if torch.cuda.is_available():\n",
    "#     print(\"GPU is available\")\n",
    "# else:\n",
    "#     print(\"GPU is not available\")\n",
    "\n",
    "d_k = 64\n",
    "d_v = 64\n",
    "d_model = 256\n",
    "d_ff = 1024\n",
    "N = 6\n",
    "H = 8\n",
    "\n",
    "batch_size = 32\n",
    "sql_len = 1024\n",
    "model = FGPT(d_k, d_v, d_model, H, d_ff, N).to('cuda')\n",
    "x = torch.randn(batch_size, sql_len, d_model).to('cuda')\n",
    "y = torch.randn(batch_size, sql_len, d_model).to('cuda')\n",
    "\n",
    "# 定义损失函数\n",
    "criterion = torch.nn.MSELoss()\n",
    "# 定义优化器\n",
    "optimizer = torch.optim.Adam(model.parameters(), lr=0.001)\n",
    "\n",
    "with profile(activities=[ProfilerActivity.CPU, ProfilerActivity.CUDA]) as prof:\n",
    "    with record_function(\"FGPT\"):\n",
    "        for i in range(10): \n",
    "            optimizer.zero_grad()\n",
    "            output = model(x)\n",
    "            loss = criterion(output, y)\n",
    "            loss.backward()\n",
    "            optimizer.step()\n",
    "\n",
    "print(prof.key_averages().table(sort_by=\"cuda_time_total\", row_limit=16))\n",
    "# "
   ]
  },
  {
   "cell_type": "code",
   "execution_count": null,
   "metadata": {},
   "outputs": [],
   "source": []
  },
  {
   "cell_type": "code",
   "execution_count": null,
   "metadata": {},
   "outputs": [],
   "source": []
  },
  {
   "cell_type": "markdown",
   "metadata": {},
   "source": [
    "# 4 GPU分析工具"
   ]
  },
  {
   "cell_type": "markdown",
   "metadata": {},
   "source": [
    "# 5 CPU 性能分析工具"
   ]
  },
  {
   "cell_type": "markdown",
   "metadata": {},
   "source": []
  }
 ],
 "metadata": {
  "kernelspec": {
   "display_name": "ddp",
   "language": "python",
   "name": "python3"
  },
  "language_info": {
   "codemirror_mode": {
    "name": "ipython",
    "version": 3
   },
   "file_extension": ".py",
   "mimetype": "text/x-python",
   "name": "python",
   "nbconvert_exporter": "python",
   "pygments_lexer": "ipython3",
   "version": "3.8.20"
  }
 },
 "nbformat": 4,
 "nbformat_minor": 2
}
